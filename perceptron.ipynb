{
 "cells": [
  {
   "cell_type": "markdown",
   "metadata": {},
   "source": [
    "# Imports and auxiliary functions"
   ]
  },
  {
   "cell_type": "code",
   "execution_count": 77,
   "metadata": {},
   "outputs": [],
   "source": [
    "# imports\n",
    "\n",
    "import numpy as np\n",
    "import random\n",
    "import matplotlib.pyplot as plt\n",
    "%matplotlib inline\n",
    "import math"
   ]
  },
  {
   "cell_type": "code",
   "execution_count": 78,
   "metadata": {},
   "outputs": [],
   "source": [
    "# activation functions\n",
    "\n",
    "def sigmoid(z):\n",
    "    return 1.0 / (1.0 + np.exp(-z))\n",
    "\n",
    "def perceptron(z):\n",
    "    return -1 if z<=0 else 1\n",
    "\n",
    "# loss functions\n",
    "\n",
    "def ploss(yhat, y):\n",
    "    return max(0, -yhat*y)\n",
    "\n",
    "def lrloss(yhat, y):\n",
    "    return 0.0 if yhat==y else -1.0*(y*np.log(yhat)+(1-y)*np.log(1-yhat))\n",
    "\n",
    "# prediction functions\n",
    "\n",
    "def ppredict(self, x):\n",
    "    return self(x)\n",
    "\n",
    "def lrpredict(self, x):\n",
    "    return 1 if self(x)>0.5 else 0\n",
    "\n",
    "# extra\n",
    "\n",
    "def softmax(z):\n",
    "    return np.exp(z) / np.sum(np.exp(z))"
   ]
  },
  {
   "cell_type": "markdown",
   "metadata": {},
   "source": [
    "# Neuron and Trainer class definitions"
   ]
  },
  {
   "cell_type": "code",
   "execution_count": 79,
   "metadata": {},
   "outputs": [],
   "source": [
    "class Neuron:\n",
    "\n",
    "    def __init__(self, dimension=1, weights=None, bias=None, activation=(lambda x: x), predict=(lambda x: x)):\n",
    "    \n",
    "        self._dim = dimension\n",
    "        self.w = weights or np.random.normal(size=self._dim)\n",
    "        self.w = np.array(self.w)\n",
    "        self.b = bias if bias is not None else np.random.normal()\n",
    "        self._a = activation\n",
    "        self.predict = predict.__get__(self)\n",
    "    \n",
    "    def __str__(self):\n",
    "        \n",
    "        return \"Simple cell neuron\\n\\\n",
    "        \\tInput dimension: %d\\n\\\n",
    "        \\tBias: %f\\n\\\n",
    "        \\tWeights: %s\\n\\\n",
    "        \\tActivation: %s\" % (self._dim, self.b, self.w, self._a.__name__)\n",
    "    \n",
    "    def __call__(self, x):\n",
    "        \n",
    "        yhat = self._a(np.dot(self.w, np.array(x)) + self.b)\n",
    "        return yhat"
   ]
  },
  {
   "cell_type": "code",
   "execution_count": 80,
   "metadata": {},
   "outputs": [],
   "source": [
    "class Trainer:\n",
    "    \n",
    "    def __init__(self, dataset, model):\n",
    "        \n",
    "        self.dataset = dataset\n",
    "        self.model = model\n",
    "        self.loss = ploss\n",
    "        \n",
    "    def cost(self, data):\n",
    "        \n",
    "        return np.mean([self.loss(self.model.predict(x), y) for x, y in data])\n",
    "    \n",
    "    def accuracy(self, data):\n",
    "        \n",
    "        return 100*np.mean([1 if self.model.predict(x) == y else 0 for x, y in data])\n",
    "    \n",
    "    def train(self, lr, ne):\n",
    "        \n",
    "        print(\"training model on data...\")\n",
    "        accuracy = self.accuracy(self.dataset)\n",
    "        print(\"initial accuracy: %.3f\" % (accuracy))\n",
    "        \n",
    "        for epoch in range(ne):\n",
    "            for d in self.dataset:\n",
    "                x, y = d\n",
    "                x = np.array(x)\n",
    "                yhat = self.model(x)\n",
    "                error = y - yhat\n",
    "                self.model.w += lr*(y-yhat)*x\n",
    "                self.model.b += lr*(y-yhat)\n",
    "            accuracy = self.accuracy(self.dataset)\n",
    "            print('>epoch=%d, learning_rate=%.3f, accuracy=%.3f' % (epoch+1, lr, accuracy))\n",
    "            \n",
    "        print(\"training complete\")\n",
    "        print(\"final accuracy: %.3f\" % (self.accuracy(self.dataset)))"
   ]
  },
  {
   "cell_type": "markdown",
   "metadata": {},
   "source": [
    "# Generating a toy dataset of two clusters of points (red and blue, labaled with -1 and 1 correspondingly)"
   ]
  },
  {
   "cell_type": "code",
   "execution_count": 81,
   "metadata": {},
   "outputs": [],
   "source": [
    "group1 = np.random.multivariate_normal(mean=[5, 5], cov=[[3, 0], [0, 3]], size=25)\n",
    "group2 = np.random.multivariate_normal(mean=[15, 15], cov=[[3, 0], [0, 3]], size=25)"
   ]
  },
  {
   "cell_type": "code",
   "execution_count": 82,
   "metadata": {},
   "outputs": [
    {
     "data": {
      "text/plain": [
       "<matplotlib.collections.PathCollection at 0x1193b8940>"
      ]
     },
     "execution_count": 82,
     "metadata": {},
     "output_type": "execute_result"
    },
    {
     "data": {
      "image/png": "[encoded data removed]",
      "text/plain": [
       "<Figure size 432x288 with 1 Axes>"
      ]
     },
     "metadata": {
      "needs_background": "light"
     },
     "output_type": "display_data"
    }
   ],
   "source": [
    "plt.scatter([x for x, y in group1], [y for x, y in group1], color='r')\n",
    "plt.scatter([x for x, y in group2], [y for x, y in group2], color='b')"
   ]
  },
  {
   "cell_type": "code",
   "execution_count": 83,
   "metadata": {},
   "outputs": [],
   "source": [
    "data = [(list(d), -1) for d in group1]+[(list(d), 1) for d in group2]\n",
    "random.shuffle(data)"
   ]
  },
  {
   "cell_type": "code",
   "execution_count": 84,
   "metadata": {},
   "outputs": [
    {
     "data": {
      "text/plain": [
       "[([15.192753328870602, 14.94557501262072], 1),\n",
       " ([5.395569122310987, 6.2200223930608844], -1),\n",
       " ([4.86270923835623, 6.267574005468623], -1),\n",
       " ([12.530938068278058, 14.43120440072513], 1),\n",
       " ([7.057648955682438, 4.706603933217228], -1),\n",
       " ([6.595834704901922, 2.019285833497471], -1),\n",
       " ([12.765336981372865, 14.29484254674243], 1),\n",
       " ([15.561322952793981, 14.067119738799251], 1),\n",
       " ([13.231750654531833, 14.526677522810822], 1),\n",
       " ([19.05118486954804, 13.985703541183913], 1),\n",
       " ([6.299903997446164, 3.50460053687811], -1),\n",
       " ([3.188829056320075, 7.118865613580336], -1),\n",
       " ([4.898290567394563, 6.399303410710895], -1),\n",
       " ([6.4960488693038005, 7.837036360207694], -1),\n",
       " ([4.419792664422703, 5.613190441830282], -1),\n",
       " ([14.613042403492315, 16.036440246162755], 1),\n",
       " ([3.8075579140287585, 2.101771257478538], -1),\n",
       " ([16.05556720536131, 17.101242558584758], 1),\n",
       " ([12.582652295201662, 14.63224734472291], 1),\n",
       " ([15.123739807523833, 15.703660492474873], 1),\n",
       " ([5.291448691319398, 4.856494615527115], -1),\n",
       " ([7.280814822592985, 3.5401267142556447], -1),\n",
       " ([15.625487097613469, 15.137201353029436], 1),\n",
       " ([13.00843083988385, 14.944253059890666], 1),\n",
       " ([13.916443208422685, 12.193319317102212], 1),\n",
       " ([18.622171624232106, 13.120341653339047], 1),\n",
       " ([3.7105629902368307, 7.415131366147206], -1),\n",
       " ([14.869972076305366, 14.50844625392634], 1),\n",
       " ([6.157850984852218, 6.488652508071062], -1),\n",
       " ([4.565783311186768, 3.9050573629235323], -1),\n",
       " ([3.895605484213956, 4.5471582464375935], -1),\n",
       " ([3.3849993437400627, 6.454691664855605], -1),\n",
       " ([14.19597663118701, 12.287847846521679], 1),\n",
       " ([5.371474133536539, 6.143233993525704], -1),\n",
       " ([5.5539470198990255, 2.6978021519597952], -1),\n",
       " ([4.418931668728075, 5.6331153895536445], -1),\n",
       " ([17.75850772455295, 13.206062050223515], 1),\n",
       " ([14.78597732026199, 16.108350128152754], 1),\n",
       " ([15.071682624022815, 15.875407670962216], 1),\n",
       " ([6.287432727984197, 3.1994050262365468], -1),\n",
       " ([13.649666285564766, 15.845684895612498], 1),\n",
       " ([3.9381170743561515, 2.7392155770217683], -1),\n",
       " ([16.049355839785573, 17.480934520404393], 1),\n",
       " ([13.823683937429392, 14.692317448878164], 1),\n",
       " ([4.79129462795511, 4.108303075034859], -1),\n",
       " ([15.313173410308442, 14.317005083299088], 1),\n",
       " ([7.845859684942807, 6.176763833890151], -1),\n",
       " ([15.955260482904945, 12.36774101171282], 1),\n",
       " ([11.685772644859883, 14.808325349921095], 1),\n",
       " ([4.892404771426793, 3.7232967801315224], -1)]"
      ]
     },
     "execution_count": 84,
     "metadata": {},
     "output_type": "execute_result"
    }
   ],
   "source": [
    "data"
   ]
  },
  {
   "cell_type": "markdown",
   "metadata": {},
   "source": [
    "# Some visualization (you won't be doing this because your datasets will be high-dimensional)"
   ]
  },
  {
   "cell_type": "code",
   "execution_count": 85,
   "metadata": {},
   "outputs": [],
   "source": [
    "# we use this to visualize the decision boundary before and after training\n",
    "\n",
    "def draw_decision_boundary(dataset, model):\n",
    "    \n",
    "    weights = [model.b] + list(model.w)\n",
    "    dataset = [d[0]+[d[1]] for d in dataset]\n",
    "    plt.scatter([d[0] for d in dataset if d[2] == -1], [d[1] for d in dataset if d[2] == -1], c='red')\n",
    "    plt.scatter([d[0] for d in dataset if d[2] == 1], [d[1] for d in dataset if d[2] == 1], c='blue')\n",
    "    xmin, xmax = min([d[0] for d in dataset]), max([d[0] for d in dataset])\n",
    "    ymin, ymax = min([d[1] for d in dataset]), max([d[1] for d in dataset])\n",
    "    xscale = 1.25\n",
    "    yscale = 1.25\n",
    "    xs = np.linspace(xmin, xmax, 100)\n",
    "    plt.plot(xs, [-weights[0]/weights[2] - weights[1]/weights[2]*x for x in xs], c='black')\n",
    "    axes = plt.gca()\n",
    "    axes.set_xlim([((xmin+xmax)-(xmax-xmin)*xscale)/2.0, ((xmin+xmax)+(xmax-xmin)*xscale)/2.0])\n",
    "    axes.set_ylim([((ymin+ymax)-(ymax-ymin)*yscale)/2.0, ((ymin+ymax)+(ymax-ymin)*yscale)/2.0])\n",
    "    plt.show()"
   ]
  },
  {
   "cell_type": "markdown",
   "metadata": {},
   "source": [
    "# Initialize a neuron"
   ]
  },
  {
   "cell_type": "code",
   "execution_count": 86,
   "metadata": {},
   "outputs": [],
   "source": [
    "model = Neuron(dimension=2, activation=perceptron, predict=ppredict)"
   ]
  },
  {
   "cell_type": "code",
   "execution_count": 87,
   "metadata": {},
   "outputs": [
    {
     "name": "stdout",
     "output_type": "stream",
     "text": [
      "Simple cell neuron\n",
      "        \tInput dimension: 2\n",
      "        \tBias: -0.147795\n",
      "        \tWeights: [-0.19342504  1.20758688]\n",
      "        \tActivation: perceptron\n"
     ]
    }
   ],
   "source": [
    "print(model)"
   ]
  },
  {
   "cell_type": "code",
   "execution_count": 88,
   "metadata": {},
   "outputs": [
    {
     "data": {
      "image/png": "[encoded data removed]",
      "text/plain": [
       "<Figure size 432x288 with 1 Axes>"
      ]
     },
     "metadata": {
      "needs_background": "light"
     },
     "output_type": "display_data"
    }
   ],
   "source": [
    "# initial boundary\n",
    "\n",
    "draw_decision_boundary(data, model)"
   ]
  },
  {
   "cell_type": "code",
   "execution_count": 89,
   "metadata": {},
   "outputs": [],
   "source": [
    "trainer = Trainer(data, model)"
   ]
  },
  {
   "cell_type": "code",
   "execution_count": 90,
   "metadata": {},
   "outputs": [
    {
     "data": {
      "text/plain": [
       "50.0"
      ]
     },
     "execution_count": 90,
     "metadata": {},
     "output_type": "execute_result"
    }
   ],
   "source": [
    "trainer.accuracy(data)"
   ]
  },
  {
   "cell_type": "markdown",
   "metadata": {},
   "source": [
    "# Train the model"
   ]
  },
  {
   "cell_type": "code",
   "execution_count": 91,
   "metadata": {},
   "outputs": [
    {
     "name": "stdout",
     "output_type": "stream",
     "text": [
      "training model on data...\n",
      "initial accuracy: 50.000\n",
      ">epoch=1, learning_rate=0.010, accuracy=66.000\n",
      ">epoch=2, learning_rate=0.010, accuracy=72.000\n",
      ">epoch=3, learning_rate=0.010, accuracy=62.000\n",
      ">epoch=4, learning_rate=0.010, accuracy=88.000\n",
      ">epoch=5, learning_rate=0.010, accuracy=90.000\n",
      ">epoch=6, learning_rate=0.010, accuracy=94.000\n",
      ">epoch=7, learning_rate=0.010, accuracy=94.000\n",
      ">epoch=8, learning_rate=0.010, accuracy=64.000\n",
      ">epoch=9, learning_rate=0.010, accuracy=96.000\n",
      ">epoch=10, learning_rate=0.010, accuracy=54.000\n",
      ">epoch=11, learning_rate=0.010, accuracy=68.000\n",
      ">epoch=12, learning_rate=0.010, accuracy=100.000\n",
      ">epoch=13, learning_rate=0.010, accuracy=100.000\n",
      ">epoch=14, learning_rate=0.010, accuracy=100.000\n",
      ">epoch=15, learning_rate=0.010, accuracy=100.000\n",
      ">epoch=16, learning_rate=0.010, accuracy=100.000\n",
      ">epoch=17, learning_rate=0.010, accuracy=100.000\n",
      ">epoch=18, learning_rate=0.010, accuracy=100.000\n",
      ">epoch=19, learning_rate=0.010, accuracy=100.000\n",
      ">epoch=20, learning_rate=0.010, accuracy=100.000\n",
      ">epoch=21, learning_rate=0.010, accuracy=100.000\n",
      ">epoch=22, learning_rate=0.010, accuracy=100.000\n",
      ">epoch=23, learning_rate=0.010, accuracy=100.000\n",
      ">epoch=24, learning_rate=0.010, accuracy=100.000\n",
      ">epoch=25, learning_rate=0.010, accuracy=100.000\n",
      "training complete\n",
      "final accuracy: 100.000\n"
     ]
    }
   ],
   "source": [
    "trainer.train(0.01, 25)"
   ]
  },
  {
   "cell_type": "code",
   "execution_count": 92,
   "metadata": {},
   "outputs": [
    {
     "data": {
      "image/png": "[encoded data removed]",
      "text/plain": [
       "<Figure size 432x288 with 1 Axes>"
      ]
     },
     "metadata": {
      "needs_background": "light"
     },
     "output_type": "display_data"
    }
   ],
   "source": [
    "# final boundary\n",
    "\n",
    "draw_decision_boundary(data, model)"
   ]
  },
  {
   "cell_type": "code",
   "execution_count": null,
   "metadata": {
    "collapsed": false,
    "inputHidden": false,
    "jupyter": {
     "outputs_hidden": false
    },
    "outputHidden": false
   },
   "outputs": [],
   "source": []
  }
 ],
 "metadata": {
  "kernel_info": {
   "name": "python3"
  },
  "kernelspec": {
   "display_name": "Python 3",
   "language": "python",
   "name": "python3"
  },
  "language_info": {
   "codemirror_mode": {
    "name": "ipython",
    "version": 3
   },
   "file_extension": ".py",
   "mimetype": "text/x-python",
   "name": "python",
   "nbconvert_exporter": "python",
   "pygments_lexer": "ipython3",
   "version": "3.7.4"
  },
  "nteract": {
   "version": "0.12.3"
  }
 },
 "nbformat": 4,
 "nbformat_minor": 4
}
